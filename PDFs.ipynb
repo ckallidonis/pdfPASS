{
 "cells": [
  {
   "cell_type": "markdown",
   "metadata": {},
   "source": [
    "# Jupyter Notebook for the evaluation of nucleon PDFs from Distillation correlation functions"
   ]
  },
  {
   "cell_type": "markdown",
   "metadata": {},
   "source": [
    "## Initialization"
   ]
  },
  {
   "cell_type": "code",
   "execution_count": 1,
   "metadata": {},
   "outputs": [
    {
     "name": "stdout",
     "output_type": "stream",
     "text": [
      "Done\n"
     ]
    }
   ],
   "source": [
    "import numpy as np\n",
    "import scipy.linalg as la\n",
    "import scipy.optimize as scipyOpt\n",
    "import math, itertools as it\n",
    "import matplotlib as mpl ; import matplotlib.pyplot as plt ; plt.ion()\n",
    "from matplotlib import rc\n",
    "#rc('font',**{'family':'sans-serif','sans-serif':['Helvetiva']})\n",
    "rc('text', usetex=True)\n",
    "\n",
    "print (\"Done\")"
   ]
  },
  {
   "cell_type": "markdown",
   "metadata": {},
   "source": [
    "## Directories, Parameters, Constants"
   ]
  },
  {
   "cell_type": "markdown",
   "metadata": {},
   "source": [
    "### Generic definitions"
   ]
  },
  {
   "cell_type": "code",
   "execution_count": 29,
   "metadata": {},
   "outputs": [
    {
     "name": "stdout",
     "output_type": "stream",
     "text": [
      "Momentum Labels:\n",
      " {'unphased': ['pz.0', 'pz.+1', 'pz.+2', 'pz.+3', 'pz.-1', 'pz.-2', 'pz.-3']}\n",
      "\n",
      "\n",
      "Momentum Values:\n",
      " {'pz.0': array([0, 0, 0]), 'pz.+1': array([0, 0, 1]), 'pz.+2': array([0, 0, 2]), 'pz.+3': array([0, 0, 3]), 'pz.-1': array([ 0,  0, -1]), 'pz.-2': array([ 0,  0, -2]), 'pz.-3': array([ 0,  0, -3])}\n",
      "\n",
      "\n",
      "Insertion operator List:\n",
      " {'name': ['b_b0xDA__J0_A1pP', 'a_a1xDA__J1_T1pM', 'pion_pion_2xDA__J0_A1mM', 'b_b1xDA__J1_T1pP', 'rho_rho_2xDA__J1_T1mP', 'a_a1xDA__J1_T1pM', 'a_a1xDA__J1_T1pM', 'b_b1xDA__J1_T1pP', 'b_b1xDA__J1_T1pP', 'rho_rho_2xDA__J1_T1mP', 'rho_rho_2xDA__J1_T1mP'], 'row': [1, 2, 1, 2, 2, 1, 3, 1, 3, 1, 3]}\n",
      "\n",
      "Done\n",
      "\n"
     ]
    }
   ],
   "source": [
    "def MomTag(zMom):\n",
    "    mSgn = lambda i: (\"+\" if i > 0 else \"\") + str(i)\n",
    "    return 'pz.%s'%(mSgn(zMom))\n",
    "\n",
    "def phMomTpl(phTag,zMom):\n",
    "    return (phTag,MomTag(zMom))\n",
    "\n",
    "def momFileTag(mVec):\n",
    "    mFTag = 'momXYZ.%d.%d.%d' % (mVec[0],mVec[1],mVec[2])\n",
    "    return mFTag\n",
    "#-----------------------------------\n",
    "\n",
    "\n",
    "# Parameters for unphased correlators\n",
    "phInfo = 'unphased'\n",
    "\n",
    "# Note: Every combination of momentum, t0 and t_sink is considered a 'dataset'\n",
    "ZmomVal   = {phInfo: [0,1,2,3,-1,-2,-3]} # Available momenta values\n",
    "TsinkList = {phInfo: [4,6,8,10,12,14]}   # Tsink Values\n",
    "T0List    = {phInfo: [0,16,32,48]}       # T0 Values\n",
    "\n",
    "# Insertion gamma matrices\n",
    "gMatList = ['gt',\n",
    "            'gxg5','gyg5','gzg5','gtg5',\n",
    "            'gxgy','gxgz','gxgt','gygz','gygt','gzgt']\n",
    "\n",
    "# (Maximum) Number of configs\n",
    "Ncfg_all  = 349\n",
    "\n",
    "# Insertion operators list, that's a common file among all momenta\n",
    "insOpFile_Dict = {phInfo: '../pPDF/insert_gamma_row.DA.list'}\n",
    "\n",
    "\n",
    "# Base Directory of 3-point correlation functions\n",
    "corr3pt_dir = {phInfo: '../pPDF/3pt_data_%s'%(phInfo)}\n",
    "\n",
    "\n",
    "momLabels_Dict = {phInfo: []}\n",
    "momValue_Dict  = {}\n",
    "Ncfg_Dict = {}\n",
    "existsDataSet = {}\n",
    "for zmom in ZmomVal[phInfo]:\n",
    "    mTag = MomTag(zmom)\n",
    "    pmTpl = phMomTpl(phInfo,zmom)\n",
    "    momLabels_Dict[phInfo].append(mTag)\n",
    "    momValue_Dict[mTag] = np.array([0,0,zmom])\n",
    "    \n",
    "    for t0 in T0List[phInfo]:\n",
    "        for tsnk in TsinkList[phInfo]:\n",
    "            dTpl = (phInfo,mTag,t0,tsnk)\n",
    "            Ncfg_Dict[dTpl] = Ncfg_all  # All datasets have the same number of configs\n",
    "            existsDataSet[dTpl] = True  # All possible datasets exist\n",
    "#----------------------------------------------\n",
    "\n",
    "print('Momentum Labels:\\n', momLabels_Dict)\n",
    "print('\\n')\n",
    "print('Momentum Values:\\n', momValue_Dict)\n",
    "\n",
    "print('\\nDone\\n')"
   ]
  },
  {
   "cell_type": "markdown",
   "metadata": {},
   "source": [
    "### Read/define source-insertion-sink operators"
   ]
  },
  {
   "cell_type": "code",
   "execution_count": 32,
   "metadata": {},
   "outputs": [
    {
     "name": "stdout",
     "output_type": "stream",
     "text": [
      "Insertion operator List:\n",
      " {'name': ['b_b0xDA__J0_A1pP', 'a_a1xDA__J1_T1pM', 'pion_pion_2xDA__J0_A1mM', 'b_b1xDA__J1_T1pP', 'rho_rho_2xDA__J1_T1mP', 'a_a1xDA__J1_T1pM', 'a_a1xDA__J1_T1pM', 'b_b1xDA__J1_T1pP', 'b_b1xDA__J1_T1pP', 'rho_rho_2xDA__J1_T1mP', 'rho_rho_2xDA__J1_T1mP'], 'row': [1, 2, 1, 2, 2, 1, 3, 1, 3, 1, 3]}\n",
      "\n",
      "Done\n",
      "\n"
     ]
    }
   ],
   "source": [
    "\n",
    "# Interpolating operators  for 3-point functions         \n",
    "nRowSrc3pt = {'single': 2}\n",
    "nRowSnk3pt = {'single': 2}\n",
    "srcOpList3pt = {'single': {}}\n",
    "snkOpList3pt = {'single': {}}\n",
    "for zmom in ZmomVal[phInfo]:\n",
    "    pmTpl = phMomTpl(phInfo,zmom)\n",
    "    if zmom == 0:\n",
    "        srcOpList3pt['single'][pmTpl] = ['NucleonMG1g1MxD0J0S_J1o2_G1g1']\n",
    "        snkOpList3pt['single'][pmTpl] = ['NucleonMG1g1MxD0J0S_J1o2_G1g1']\n",
    "    else:\n",
    "        srcOpList3pt['single'][pmTpl] = ['NucleonMG1g1MxD0J0S_J1o2_H1o2D4E1']\n",
    "        snkOpList3pt['single'][pmTpl] = ['NucleonMG1g1MxD0J0S_J1o2_H1o2D4E1']\n",
    "        \n",
    "        \n",
    "# FIXME: Interpolating operators for 2-point functions        \n",
    "\n",
    "#----------------------------------------------\n",
    "\n",
    "\n",
    "# Read insertion operators\n",
    "insOptrList = {}\n",
    "insOpFname = insOpFile_Dict[phInfo]\n",
    "insOptrList[phInfo] = {'name': [], 'row': []}\n",
    "with open(insOpFname) as fp:\n",
    "    line = fp.readlines()\n",
    "    for t in line:\n",
    "        insOptrList[phInfo]['name'].append(t.split()[0])\n",
    "        insOptrList[phInfo]['row'].append(int(t.split()[1]))\n",
    "\n",
    "# Create dictionary to map actual gamma matrices to operator names and rows\n",
    "gMat = {phInfo: {'gt'  : ('b_b0xDA__J0_A1pP', 1),\n",
    "                 'gxg5': ('a_a1xDA__J1_T1pM', 1),\n",
    "                 'gyg5': ('a_a1xDA__J1_T1pM', 3),\n",
    "                 'gzg5': ('a_a1xDA__J1_T1pM', 2),\n",
    "                 'gtg5': ('pion_pion_2xDA__J0_A1mM', 1),\n",
    "                 'gxgy': ('b_b1xDA__J1_T1pP', 2),\n",
    "                 'gxgz': ('b_b1xDA__J1_T1pP', 3),\n",
    "                 'gxgt': ('rho_rho_2xDA__J1_T1mP', 3),\n",
    "                 'gygz': ('b_b1xDA__J1_T1pP', 1),\n",
    "                 'gygt': ('rho_rho_2xDA__J1_T1mP', 1),\n",
    "                 'gzgt': ('rho_rho_2xDA__J1_T1mP', 2)}}\n",
    "#----------------------------------------------\n",
    "\n",
    "print('Insertion operator List:\\n', insOptrList[phInfo])\n",
    "\n",
    "print('\\nDone\\n')"
   ]
  },
  {
   "cell_type": "markdown",
   "metadata": {},
   "source": [
    "### Ensemble-related definitions"
   ]
  },
  {
   "cell_type": "code",
   "execution_count": 30,
   "metadata": {},
   "outputs": [],
   "source": [
    "# Ensemble parameters\n",
    "L = 32\n",
    "T = 64\n",
    "\n",
    "binsize=1\n",
    "#------------------------------------------------\n",
    "\n",
    "# Nucleon, pion mass\n",
    "alat_fm = 0.094\n",
    "alat_iGeV = alat_fm / 0.1973\n",
    "mpi_GeV = 0.350\n",
    "mN_GeV = 1.123\n",
    "amN = mN_GeV * alat_iGeV\n",
    "\n",
    "# Dispersion relation\n",
    "Pi = np.pi\n",
    "def dispRel(am,k):\n",
    "    ap = 2*Pi/L * k\n",
    "    return np.sqrt(am**2 + np.dot(ap,ap))"
   ]
  },
  {
   "cell_type": "code",
   "execution_count": null,
   "metadata": {},
   "outputs": [],
   "source": []
  }
 ],
 "metadata": {
  "kernelspec": {
   "display_name": "Python 3",
   "language": "python",
   "name": "python3"
  },
  "language_info": {
   "codemirror_mode": {
    "name": "ipython",
    "version": 3
   },
   "file_extension": ".py",
   "mimetype": "text/x-python",
   "name": "python",
   "nbconvert_exporter": "python",
   "pygments_lexer": "ipython3",
   "version": "3.6.9"
  }
 },
 "nbformat": 4,
 "nbformat_minor": 2
}
