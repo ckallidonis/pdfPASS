{
 "cells": [
  {
   "cell_type": "markdown",
   "metadata": {},
   "source": [
    "# Jupyter Notebook for the evaluation of nucleon PDFs from Distillation correlation functions"
   ]
  },
  {
   "cell_type": "markdown",
   "metadata": {},
   "source": [
    "## Initialization"
   ]
  },
  {
   "cell_type": "code",
   "execution_count": 1,
   "metadata": {},
   "outputs": [
    {
     "name": "stdout",
     "output_type": "stream",
     "text": [
      "Done\n"
     ]
    }
   ],
   "source": [
    "import numpy as np\n",
    "import scipy.linalg as la\n",
    "import scipy.optimize as scipyOpt\n",
    "import math, itertools as it\n",
    "import matplotlib as mpl ; import matplotlib.pyplot as plt ; plt.ion()\n",
    "from matplotlib import rc\n",
    "#rc('font',**{'family':'sans-serif','sans-serif':['Helvetiva']})\n",
    "rc('text', usetex=True)\n",
    "\n",
    "print (\"Done\")"
   ]
  },
  {
   "cell_type": "markdown",
   "metadata": {},
   "source": [
    "## Directories, Parameters, Constants"
   ]
  },
  {
   "cell_type": "markdown",
   "metadata": {},
   "source": [
    "### Generic dictionaries"
   ]
  },
  {
   "cell_type": "code",
   "execution_count": 14,
   "metadata": {},
   "outputs": [
    {
     "name": "stdout",
     "output_type": "stream",
     "text": [
      "{'unphased': ['pz.0', 'pz.+1', 'pz.+2', 'pz.+3', 'pz.-1', 'pz.-2', 'pz.-3']}\n",
      "{'unphased': {'pz.0': array([0, 0, 0]), 'pz.+1': array([0, 0, 1]), 'pz.+2': array([0, 0, 2]), 'pz.+3': array([0, 0, 3]), 'pz.-1': array([ 0,  0, -1]), 'pz.-2': array([ 0,  0, -2]), 'pz.-3': array([ 0,  0, -3])}}\n",
      "{'unphased_pz.0': 'insert_gamma_row.DA.list', 'unphased_pz.+1': 'insert_gamma_row.DA.list', 'unphased_pz.+2': 'insert_gamma_row.DA.list', 'unphased_pz.+3': 'insert_gamma_row.DA.list', 'unphased_pz.-1': 'insert_gamma_row.DA.list', 'unphased_pz.-2': 'insert_gamma_row.DA.list', 'unphased_pz.-3': 'insert_gamma_row.DA.list'}\n",
      "\n",
      "Done\n",
      "\n"
     ]
    }
   ],
   "source": [
    "def MomTag(zMom):\n",
    "    mSgn = lambda i: (\"+\" if i > 0 else \"\") + str(i)\n",
    "    return 'pz.%s'%(mSgn(zMom))\n",
    "\n",
    "def phMomTag(phTag,zMom):\n",
    "    return '%s_%s'%(phTag,MomTag(zMom))\n",
    "#-----------------------------------\n",
    "\n",
    "# Parameters for unphased correlators\n",
    "phInfo = 'unphased'\n",
    "\n",
    "ZmomVal = {phInfo: [0,1,2,3,-1,-2,-3]} # Available momenta values\n",
    "\n",
    "momLabels_Dict = {phInfo: []}\n",
    "momValue_Dict  = {phInfo: {}}\n",
    "insertionList_Dict = {}\n",
    "for zmom in ZmomVal[phInfo]:\n",
    "    mTag = MomTag(zmom)\n",
    "    pmTag = phMomTag(phInfo,zmom)\n",
    "    momLabels_Dict[phInfo].append(mTag)\n",
    "    momValue_Dict[phInfo][mTag] = np.array([0,0,zmom])\n",
    "    insertionList_Dict[pmTag] = 'insert_gamma_row.DA.list'  # That's common among all momenta\n",
    "\n",
    "# FIXME for the rest\n",
    "# Ncfg_Dict = {'unphased_pz.0' : 349,\n",
    "#              'unphased_pz.+1': 349,\n",
    "#              'unphased_pz.+2': 349,\n",
    "#              'unphased_pz.+3': 349,\n",
    "#              'unphased_pz.-1': 349,\n",
    "#              'unphased_pz.-2': 349,\n",
    "#              'unphased_pz.-3': 349}\n",
    "\n",
    "# Nt_Dict = {'unphased_pz.0': 16,\n",
    "#            'unphased_pz.1': 21,\n",
    "#            'unphased_pz.2': 21,\n",
    "#            'phased_d001_-2.00_pz.-4': 21,\n",
    "#            'phased_d001_-2.00_pz.-5': 21,\n",
    "#            'phased_d001_-2.00_pz.-6': 21}\n",
    "\n",
    "# nRow_Dict = {'unphased_pz.0': 1,\n",
    "#              'unphased_pz.1': 2,\n",
    "#              'unphased_pz.2': 2,\n",
    "#              'phased_d001_-2.00_pz.-4': 1,\n",
    "#              'phased_d001_-2.00_pz.-5': 1,\n",
    "#              'phased_d001_-2.00_pz.-6': 1}\n",
    "\n",
    "# tSrc_Dict = {'unphased_pz.0': [0,12,16,32],\n",
    "#              'unphased_pz.1': [0,16,32,48],\n",
    "#              'unphased_pz.2': [0,16,32,48],\n",
    "#              'phased_d001_-2.00_pz.-4': [0]}\n",
    "\n",
    "\n",
    "# print(momLabels_Dict)\n",
    "# print(momValue_Dict)\n",
    "# print(insertionList_Dict)\n",
    "\n",
    "             \n",
    "print('\\nDone\\n')\n",
    "\n"
   ]
  },
  {
   "cell_type": "code",
   "execution_count": null,
   "metadata": {},
   "outputs": [],
   "source": []
  }
 ],
 "metadata": {
  "kernelspec": {
   "display_name": "Python 3",
   "language": "python",
   "name": "python3"
  },
  "language_info": {
   "codemirror_mode": {
    "name": "ipython",
    "version": 3
   },
   "file_extension": ".py",
   "mimetype": "text/x-python",
   "name": "python",
   "nbconvert_exporter": "python",
   "pygments_lexer": "ipython3",
   "version": "3.6.9"
  }
 },
 "nbformat": 4,
 "nbformat_minor": 2
}
