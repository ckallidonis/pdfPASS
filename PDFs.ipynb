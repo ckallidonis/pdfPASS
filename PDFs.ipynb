{
 "cells": [
  {
   "cell_type": "markdown",
   "metadata": {},
   "source": [
    "# Jupyter Notebook for the evaluation of nucleon PDFs from Distillation correlation functions"
   ]
  },
  {
   "cell_type": "markdown",
   "metadata": {},
   "source": [
    "## Initialization"
   ]
  },
  {
   "cell_type": "code",
   "execution_count": 1,
   "metadata": {},
   "outputs": [
    {
     "name": "stdout",
     "output_type": "stream",
     "text": [
      "Done\n"
     ]
    }
   ],
   "source": [
    "import numpy as np\n",
    "import scipy.linalg as la\n",
    "import scipy.optimize as scipyOpt\n",
    "import math, itertools as it\n",
    "import matplotlib as mpl ; import matplotlib.pyplot as plt ; plt.ion()\n",
    "from matplotlib import rc\n",
    "#rc('font',**{'family':'sans-serif','sans-serif':['Helvetiva']})\n",
    "rc('text', usetex=True)\n",
    "\n",
    "print (\"Done\")"
   ]
  },
  {
   "cell_type": "markdown",
   "metadata": {},
   "source": [
    "## Directories, Parameters, Constants"
   ]
  },
  {
   "cell_type": "markdown",
   "metadata": {},
   "source": [
    "### Generic definitions"
   ]
  },
  {
   "cell_type": "code",
   "execution_count": 37,
   "metadata": {},
   "outputs": [
    {
     "name": "stdout",
     "output_type": "stream",
     "text": [
      "Momentum Tags:\n",
      " {('unphased', 'single'): ['pz.0', 'pz.+1', 'pz.+2', 'pz.+3', 'pz.-1', 'pz.-2', 'pz.-3']}\n",
      "\n",
      "\n",
      "Momentum Vectors:\n",
      " {'pz.0': array([0, 0, 0]), 'pz.+1': array([0, 0, 1]), 'pz.+2': array([0, 0, 2]), 'pz.+3': array([0, 0, 3]), 'pz.-1': array([ 0,  0, -1]), 'pz.-2': array([ 0,  0, -2]), 'pz.-3': array([ 0,  0, -3])}\n",
      "\n",
      "Done\n",
      "\n"
     ]
    }
   ],
   "source": [
    "def dispTag(d):\n",
    "    dL = lambda i: (\"z\" if i != 0 else \"\") + (\"+\" if i > 0 else \"\") + str(i)\n",
    "    return 'disp_%s'%(dL(d))\n",
    "\n",
    "def MomTag(zMom):\n",
    "    mSgn = lambda i: (\"+\" if i > 0 else \"\") + str(i)\n",
    "    return 'pz.%s'%(mSgn(zMom))\n",
    "\n",
    "def phMomTpl(phTag,zMom):\n",
    "    return (phTag,MomTag(zMom))\n",
    "\n",
    "def momFileTag(mVec):\n",
    "    mFTag = 'momXYZ.%d.%d.%d' % (mVec[0],mVec[1],mVec[2])\n",
    "    return mFTag\n",
    "#-----------------------------------\n",
    "\n",
    "phaseTypes    = ['unphased']\n",
    "SrcSnkOpTypes = ['single']\n",
    "maxDisp = 8\n",
    "dispLen = np.arange(-maxDisp,maxDisp+1)\n",
    "\n",
    "\n",
    "# Parameters for unphased correlators\n",
    "phTS = 'unphased'\n",
    "opTS = 'single'\n",
    "\n",
    "# Note: Every combination of momentum, t0 and t_sink is considered a 'dataset'\n",
    "ZmomVal   = {(phTS,opTS): [0,1,2,3,-1,-2,-3]} # Available momenta values\n",
    "TsinkList = {(phTS,opTS): [4,6,8,10,12,14]}   # Tsink Values\n",
    "T0List    = {(phTS,opTS): [0,16,32,48]}       # T0 Values\n",
    "\n",
    "# Insertion gamma matrices\n",
    "gMatList = ['gt',\n",
    "            'gxg5','gyg5','gzg5','gtg5',\n",
    "            'gxgy','gxgz','gxgt','gygz','gygt','gzgt']\n",
    "\n",
    "# (Maximum) Number of configs\n",
    "Ncfg_all  = 349\n",
    "\n",
    "# Base Directory of 3-point correlation functions\n",
    "corr3pt_dir = {(phTS,opTS): '../pPDF/3pt_data_%s'%(phTS)}\n",
    "\n",
    "momTags_Dict = {(phTS,opTS): []}\n",
    "momVector_Dict  = {}\n",
    "Ncfg_Dict = {}\n",
    "existsDataSet = {}\n",
    "for zmom in ZmomVal[(phTS,opTS)]:\n",
    "    mTag = MomTag(zmom)\n",
    "    momTags_Dict[(phTS,opTS)].append(mTag)\n",
    "    momVector_Dict[mTag] = np.array([0,0,zmom])\n",
    "    \n",
    "    for tsnk in TsinkList[(phTS,opTS)]:\n",
    "        dTpl = (phTS,opTS,mTag,tsnk)\n",
    "        Ncfg_Dict[dTpl] = Ncfg_all  # All datasets have the same number of configs\n",
    "        for t0 in T0List[(phTS,opTS)]:\n",
    "            dTplAll = (phTS,opTS,mTag,tsnk,t0)\n",
    "            existsDataSet[dTplAll] = True  # All possible datasets exist\n",
    "#----------------------------------------------\n",
    "\n",
    "print('Momentum Tags:\\n', momTags_Dict)\n",
    "print('\\n')\n",
    "print('Momentum Vectors:\\n', momVector_Dict)\n",
    "\n",
    "print('\\nDone\\n')"
   ]
  },
  {
   "cell_type": "markdown",
   "metadata": {},
   "source": [
    "### Read/define source-insertion-sink operators"
   ]
  },
  {
   "cell_type": "code",
   "execution_count": 35,
   "metadata": {},
   "outputs": [
    {
     "name": "stdout",
     "output_type": "stream",
     "text": [
      "Insertion operator List:\n",
      " {'name': ['b_b0xDA__J0_A1pP', 'a_a1xDA__J1_T1pM', 'pion_pion_2xDA__J0_A1mM', 'b_b1xDA__J1_T1pP', 'rho_rho_2xDA__J1_T1mP', 'a_a1xDA__J1_T1pM', 'a_a1xDA__J1_T1pM', 'b_b1xDA__J1_T1pP', 'b_b1xDA__J1_T1pP', 'rho_rho_2xDA__J1_T1mP', 'rho_rho_2xDA__J1_T1mP'], 'row': [1, 2, 1, 2, 2, 1, 3, 1, 3, 1, 3]}\n",
      "\n",
      "Done\n",
      "\n"
     ]
    }
   ],
   "source": [
    "\n",
    "# Interpolating operators  for 3-point functions         \n",
    "nRow3pt_Dict = {'single': {}}\n",
    "nRow2pt_Dict = {'single': {}}\n",
    "srcOpList3pt_Dict = {'single': {}}\n",
    "snkOpList3pt_Dict = {'single': {}}\n",
    "srcOpList2pt_Dict = {'single': {}}\n",
    "snkOpList2pt_Dict = {'single': {}}\n",
    "for zmom in ZmomVal[(phTS,opTS)]:\n",
    "    pmTpl = phMomTpl(phTS,zmom)\n",
    "\n",
    "    # 2- and 3-point function interpolators have two-rows for all momenta\n",
    "    nRow3pt_Dict['single'][pmTpl] = 2\n",
    "    nRow2pt_Dict['single'][pmTpl] = 2\n",
    "\n",
    "    if zmom == 0:\n",
    "        srcOpList3pt_Dict['single'][pmTpl] = ['NucleonMG1g1MxD0J0S_J1o2_G1g1']\n",
    "        snkOpList3pt_Dict['single'][pmTpl] = ['NucleonMG1g1MxD0J0S_J1o2_G1g1']\n",
    "        srcOpList2pt_Dict['single'][pmTpl] = ['NucleonMG1g1MxD0J0S_J1o2_G1g1']\n",
    "        snkOpList2pt_Dict['single'][pmTpl] = ['NucleonMG1g1MxD0J0S_J1o2_G1g1']\n",
    "    else:\n",
    "        srcOpList3pt_Dict['single'][pmTpl] = ['NucleonMG1g1MxD0J0S_J1o2_H1o2D4E1']\n",
    "        snkOpList3pt_Dict['single'][pmTpl] = ['NucleonMG1g1MxD0J0S_J1o2_H1o2D4E1']\n",
    "        srcOpList2pt_Dict['single'][pmTpl] = ['NucleonMG1g1MxD0J0S_J1o2_H1o2D4E1']\n",
    "        snkOpList2pt_Dict['single'][pmTpl] = ['NucleonMG1g1MxD0J0S_J1o2_H1o2D4E1']\n",
    "#----------------------------------------------\n",
    "\n",
    "\n",
    "# Insertion operators list, that's a common file among all momenta\n",
    "insOpFile_Dict = {phTS: '../pPDF/insert_gamma_row.DA.list'}\n",
    "\n",
    "# Read insertion operators\n",
    "insOptrList = {}\n",
    "insOpFname = insOpFile_Dict[phTS]\n",
    "insOptrList[phTS] = {'name': [], 'row': []}\n",
    "with open(insOpFname) as fp:\n",
    "    line = fp.readlines()\n",
    "    for t in line:\n",
    "        insOptrList[phTS]['name'].append(t.split()[0])\n",
    "        insOptrList[phTS]['row'].append(int(t.split()[1]))\n",
    "\n",
    "# Create dictionary to map actual gamma matrices to operator names and rows\n",
    "gMatMap = {phTS: {'gt'  : ('b_b0xDA__J0_A1pP', 1),\n",
    "                  'gxg5': ('a_a1xDA__J1_T1pM', 1),\n",
    "                  'gyg5': ('a_a1xDA__J1_T1pM', 3),\n",
    "                  'gzg5': ('a_a1xDA__J1_T1pM', 2),\n",
    "                  'gtg5': ('pion_pion_2xDA__J0_A1mM', 1),\n",
    "                  'gxgy': ('b_b1xDA__J1_T1pP', 2),\n",
    "                  'gxgz': ('b_b1xDA__J1_T1pP', 3),\n",
    "                  'gxgt': ('rho_rho_2xDA__J1_T1mP', 3),\n",
    "                  'gygz': ('b_b1xDA__J1_T1pP', 1),\n",
    "                  'gygt': ('rho_rho_2xDA__J1_T1mP', 1),\n",
    "                  'gzgt': ('rho_rho_2xDA__J1_T1mP', 2)}}\n",
    "#----------------------------------------------\n",
    "\n",
    "print('Insertion operator List:\\n', insOptrList[phTS])\n",
    "\n",
    "print('\\nDone\\n')"
   ]
  },
  {
   "cell_type": "markdown",
   "metadata": {},
   "source": [
    "### Ensemble-related definitions"
   ]
  },
  {
   "cell_type": "code",
   "execution_count": 9,
   "metadata": {},
   "outputs": [
    {
     "name": "stdout",
     "output_type": "stream",
     "text": [
      "Done\n",
      "\n"
     ]
    }
   ],
   "source": [
    "# Ensemble parameters\n",
    "L = 32\n",
    "T = 64\n",
    "\n",
    "binsize=1\n",
    "#------------------------------------------------\n",
    "\n",
    "# Nucleon, pion mass\n",
    "alat_fm = 0.094\n",
    "alat_iGeV = alat_fm / 0.1973\n",
    "mpi_GeV = 0.350\n",
    "mN_GeV = 1.123\n",
    "amN = mN_GeV * alat_iGeV\n",
    "\n",
    "# Dispersion relation\n",
    "Pi = np.pi\n",
    "def dispRel(am,k):\n",
    "    ap = 2*Pi/L * k\n",
    "    return np.sqrt(am**2 + np.dot(ap,ap))\n",
    "\n",
    "print('Done\\n')"
   ]
  },
  {
   "cell_type": "markdown",
   "metadata": {},
   "source": [
    "### Jackknife-related functions"
   ]
  },
  {
   "cell_type": "code",
   "execution_count": 10,
   "metadata": {},
   "outputs": [
    {
     "name": "stdout",
     "output_type": "stream",
     "text": [
      "Done\n",
      "\n"
     ]
    }
   ],
   "source": [
    "def jackknife_ave(bins,Nbins,tL):\n",
    "\n",
    "    Jax = 0\n",
    "    \n",
    "    if(tL==1):\n",
    "        ave = np.mean(bins)\n",
    "\n",
    "        sqsum = sum(map(lambda x:x*x,ave-bins))\n",
    "        fac = (Nbins -1) / float(Nbins)\n",
    "        err = np.sqrt(fac*sqsum)\n",
    "    else:\n",
    "        ave = np.mean(bins, axis=Jax)\n",
    "\n",
    "        err = np.zeros(tL)\n",
    "        for i in range(tL):\n",
    "            sqsum = sum(map(lambda x:x*x,ave[i]-bins[:,i].real))\n",
    "            fac = (Nbins -1) / float(Nbins)\n",
    "            err[i] = np.sqrt(fac*sqsum)        \n",
    "            \n",
    "    return (ave,err)\n",
    "#-------------------------------------------------------\n",
    "\n",
    "def jackknife_binning(corr, binsize=1):\n",
    "    \n",
    "    Jax=0\n",
    "    \n",
    "    # Define the number of bins\n",
    "    mod   = Ncfg%binsize\n",
    "    Nbins = int((Ncfg - mod) / binsize)\n",
    "    bins = np.zeros((Nbins,Nt))\n",
    "\n",
    "    csum = np.sum(corr,axis=Jax) # Sum w.r.t to the configurations\n",
    "    for t in range(Nt):\n",
    "        for m in np.arange(1,mod+1):\n",
    "            csum[t] -= corr[Ncfg-m,t]  # Throw away data in case there is modulo\n",
    "            \n",
    "        for b in range(Nbins):\n",
    "            bsum = 0\n",
    "            for k in range(binsize):\n",
    "                bsum += corr[b*binsize+k,t]\n",
    "                \n",
    "            bins[b][t] = (csum[t] - bsum) / float(Ncfg - binsize - mod) # Bin averages for each bin,t\n",
    "\n",
    "    return bins, Nbins\n",
    "#-------------------------------------------------------\n",
    "\n",
    "print('Done\\n')"
   ]
  },
  {
   "cell_type": "markdown",
   "metadata": {},
   "source": [
    "## Read three-point functions"
   ]
  },
  {
   "cell_type": "code",
   "execution_count": 40,
   "metadata": {},
   "outputs": [
    {
     "name": "stdout",
     "output_type": "stream",
     "text": [
      "\n",
      "Done\n",
      "\n"
     ]
    }
   ],
   "source": [
    "def get3ptFileName(phT,t0Tag,tsnkTag,src,snk,srow,ins,insRow,mFTag,d):\n",
    "    filePre = 'corr_3pt.baryon.n64'\n",
    "    \n",
    "    srcTag = 'src_%s_%d'%(src,srow)\n",
    "    snkTag = 'snk_%s_%d'%(snk,srow)\n",
    "    insTag = 'ins_%s_%d'%(ins,insRow)\n",
    "    \n",
    "    dTag = dispTag(d)\n",
    "    # FIXME: Create displacement Tag\n",
    "    \n",
    "    FileName = '%s.%s.%s.%s.%s.%s.%s.%s.%s.dat'%(filePre,phT,t0Tag,tsnkTag,srcTag,snkTag,insTag,dTag,mFTag)\n",
    "    \n",
    "#    corr_3pt.baryon.n64.unphased.t0_0.tsnk_4.\n",
    "#    src_NucleonMG1g1MxD0J0S_J1o2_H1o2D4E1_2.\n",
    "#    snk_NucleonMG1g1MxD0J0S_J1o2_H1o2D4E1_2.\n",
    "#    ins_rho_rho_2xDA__J1_T1mP_3.\n",
    "#    disp_z-3.momXYZ.0.0.-3.dat\n",
    "    \n",
    "    return FileName\n",
    "#--------------------------------------------------------------\n",
    "\n",
    "\n",
    "c3pt_Allbins   = {}\n",
    "c3pt_Allave    = {}\n",
    "c3pt_rowAvg = {}\n",
    "c3pt_rawAllave = {}\n",
    "\n",
    "c3pt_bins   = {}\n",
    "c3pt_ave    = {}\n",
    "\n",
    "c3pt_rawAve = {}\n",
    "\n",
    "Nbins_dict = {}\n",
    "\n",
    "\n",
    "for opT in SrcSnkOpTypes:\n",
    "    for phT in phaseTypes:\n",
    "        momTags = momTags_Dict[(phT,opT)]\n",
    "        Nt0 = len(T0List[(phT,opT)])\n",
    "        \n",
    "        for mTag in momTags:\n",
    "            mVec = momVector_Dict[mTag]\n",
    "            zMom = mVec[2]\n",
    "            mFTag = momFileTag(mVec)\n",
    "            pmTpl = phMomTpl(phT,zMom)\n",
    "\n",
    "            nRow = nRow3pt_Dict[opT][pmTpl]\n",
    "\n",
    "            srcOpList3pt = srcOpList3pt_Dict[opT][pmTpl]        \n",
    "            snkOpList3pt = srcOpList3pt_Dict[opT][pmTpl]        \n",
    "\n",
    "            for tsnk in TsinkList[(phT,opT)]:\n",
    "                tsnkTag = 'tsnk_%d'%(tsnk)\n",
    "                dTpl = (phT,opT,mTag,tsnk)\n",
    "                Ncfg = Ncfg_Dict[dTpl]\n",
    "                Nt = tsnk\n",
    "\n",
    "                for isrc, src in enumerate(srcOpList3pt):\n",
    "                    for isnk, snk in enumerate(snkOpList3pt):\n",
    "                        for gMat in gMatList:\n",
    "                            ckey = (opT,phT,mTag,tsnk,isrc,isnk,gMat) # All info in one tuple\n",
    "\n",
    "                            insOpName = gMatMap[phT][gMat][0]\n",
    "                            insOpRow  = gMatMap[phT][gMat][1]\n",
    "\n",
    "                            for d in dispLen:\n",
    "                            \n",
    "                                c3pt_rawAll = np.zeros((Ncfg,Nt,nRow,Nt0),dtype=np.complex128)\n",
    "\n",
    "                                for it0,t0 in enumerate(T0List[(phT,opT)]):\n",
    "                                    t0Tag = 't0_%d'%(t0)\n",
    "\n",
    "                                    for ir,irow in enumerate(range(1,nRow+1)):\n",
    "    #                                     ckeyA = (pL,isrc,isnk,tSrc,irow)\n",
    "                                        c3ptFileName = get3ptFileName(phT,t0Tag,tsnkTag,src,snk,irow,\n",
    "                                                                      insOpName,insOpRow,mFTag,d)\n",
    "               \n",
    "                                        print('Processing file ', c3ptFileName)\n",
    "    #                                     corrFile = '%s/%s/%s/%s.src_%s_%d.snk_%s_%d.%s.dat' % (corr_dir,tSrc_Tag,mFTag,c3ptFilePre, src, irow, snk, irow, mFTag)\n",
    "\n",
    "    #                                     with open(corrFile) as fp:\n",
    "    #                                         line = fp.readlines()\n",
    "    #                                         c = 0\n",
    "    #                                         for n in line:\n",
    "    #                                             it   = c%Nt\n",
    "    #                                             icfg = c//Nt\n",
    "    #                                             c3pt_rawAll[icfg,it,ir,itSrc] = complex(np.float64(n.split()[1]),\n",
    "    #                                                                                        np.float64(n.split()[2]))\n",
    "    #                                             c += 1\n",
    "    #                                     # Reading file\n",
    "\n",
    "    #                                     # Jackknife average on All two-point functions\n",
    "    #                                     c3pt_Allbins[ckeyA], Nbins_dict[runTag] = jackknife_binning(c3pt_rawAll[:,:,ir,itSrc].real)\n",
    "    #                                     Nbins = Nbins_dict[runTag]\n",
    "    #                                     c3pt_Allave[ckeyA] = jackknife_ave(c3pt_Allbins[ckeyA],Nbins,tL=Nt)\n",
    "    #                                 # for-irow\n",
    "\n",
    "    #                                 # Standard average and standard error (still average over rows)\n",
    "    #                                 ckeyB = (pL,isrc,isnk,tSrc)\n",
    "    #                                 c3pt_rowAvg[ckeyB] = np.mean(c3pt_rawAll[:,:,:,itSrc],axis=2,dtype=np.complex128) # Average over rows\n",
    "    #                                 c3pt_rawAllave[ckeyB] = (np.mean(c3pt_rowAvg[ckeyB],axis=0),\n",
    "    #                                                             np.std(c3pt_rowAvg[ckeyB],axis=0)/np.sqrt(Ncfg))\n",
    "\n",
    "    #                             # for-tSrc\n",
    "\n",
    "    #                             # Average over rows and tSrc\n",
    "    #                             c3pt_Tmp1 = np.mean(c3pt_rawAll,axis=3,dtype=np.complex128) # over tSrc\n",
    "    #                             c3pt_Tmp2 = np.mean(c3pt_Tmp1  ,axis=2,dtype=np.complex128) # over rows\n",
    "\n",
    "    #                             # Standard average and standard error\n",
    "    #                             c3pt_rawAve[ckey] = (np.mean(c3pt_Tmp2,axis=0),np.std(c3pt_Tmp2,axis=0)/np.sqrt(Ncfg))\n",
    "\n",
    "    #                             # Jackknife-binning and Effective energy on tSrc- and row-average            \n",
    "    #                             c3pt_bins[ckey], Nbins = jackknife_binning(c3pt_Tmp2.real)\n",
    "    #                             c3pt_ave[ckey] = jackknife_ave(c3pt_bins[ckey],Nbins,tL=Nt)\n",
    "    #                     # for isrc/isnk\n",
    "\n",
    "    #                    print('%s done'%(pL))\n",
    "            \n",
    "print('\\nDone\\n')"
   ]
  },
  {
   "cell_type": "code",
   "execution_count": null,
   "metadata": {},
   "outputs": [],
   "source": []
  }
 ],
 "metadata": {
  "kernelspec": {
   "display_name": "Python 3",
   "language": "python",
   "name": "python3"
  },
  "language_info": {
   "codemirror_mode": {
    "name": "ipython",
    "version": 3
   },
   "file_extension": ".py",
   "mimetype": "text/x-python",
   "name": "python",
   "nbconvert_exporter": "python",
   "pygments_lexer": "ipython3",
   "version": "3.6.9"
  }
 },
 "nbformat": 4,
 "nbformat_minor": 2
}
